{
 "cells": [
  {
   "cell_type": "markdown",
   "id": "61885013",
   "metadata": {},
   "source": [
    "## Домашнее задание к уроку №8"
   ]
  },
  {
   "cell_type": "markdown",
   "id": "d7598c20",
   "metadata": {},
   "source": [
    "1. Можно ли отобрать наиболее значимые признаки с помощью PCA? Ответ объясните."
   ]
  },
  {
   "cell_type": "markdown",
   "id": "42361e5b",
   "metadata": {},
   "source": [
    "С помощью PCA нельзя отобрать какие-либо признаки из выборки. Можно построить новые признаки на основе старых, которые будут содержать какую-то долю информации из выборки."
   ]
  },
  {
   "cell_type": "markdown",
   "id": "62f19e96",
   "metadata": {},
   "source": [
    "2. (*) Написать свою реализацию метода главных компонент с помощью сингулярного разложения с использованием функции numpy.linalg.svd(). Применить к данным на уроке и сравнить ответы."
   ]
  },
  {
   "cell_type": "markdown",
   "id": "0176c175",
   "metadata": {},
   "source": [
    "Сначала повторим реализацию PCA из урока."
   ]
  },
  {
   "cell_type": "code",
   "execution_count": 1,
   "id": "fa734aae",
   "metadata": {},
   "outputs": [],
   "source": [
    "import numpy as np\n",
    "from sklearn import datasets\n",
    "import matplotlib.pyplot as plt"
   ]
  },
  {
   "cell_type": "code",
   "execution_count": 2,
   "id": "7da8000a",
   "metadata": {},
   "outputs": [
    {
     "data": {
      "text/plain": [
       "(150, 4)"
      ]
     },
     "execution_count": 2,
     "metadata": {},
     "output_type": "execute_result"
    }
   ],
   "source": [
    "# Загрузим игрушечный датасет из sklearn\n",
    "iris = datasets.load_iris()\n",
    "X = iris.data\n",
    "X.shape"
   ]
  },
  {
   "cell_type": "code",
   "execution_count": 3,
   "id": "a361d751",
   "metadata": {},
   "outputs": [],
   "source": [
    "# Для начала отмасштабируем выборку\n",
    "X_ = X.astype(float)\n",
    "\n",
    "rows, cols = X_.shape\n",
    "\n",
    "# центрирование - вычитание из каждого значения среднего по признаку\n",
    "means = X_.mean(axis=0)\n",
    "for i in range(rows):\n",
    "    for j in range(cols):\n",
    "        X_[i, j] -= means[j]\n",
    "\n",
    "# деление каждого значения на стандартное отклонение\n",
    "std = np.std(X_, axis=0)\n",
    "for j in range(cols):\n",
    "    for i in range(rows):\n",
    "        X_[i, j] /= std[j]"
   ]
  },
  {
   "cell_type": "code",
   "execution_count": 4,
   "id": "e45ece56",
   "metadata": {},
   "outputs": [
    {
     "name": "stdout",
     "output_type": "stream",
     "text": [
      "Собственные значения в порядке убывания:\n",
      "437.77467247979905\n",
      "137.1045707202107\n",
      "22.01353133569719\n",
      "3.107225464292897\n"
     ]
    }
   ],
   "source": [
    "# Найдем собственные векторы и собственные значения\n",
    " \n",
    "covariance_matrix = X_.T.dot(X_)\n",
    "\n",
    "eig_values, eig_vectors = np.linalg.eig(covariance_matrix)\n",
    "\n",
    "# сформируем список кортежей (собственное значение, собственный вектор)\n",
    "eig_pairs = [(np.abs(eig_values[i]), eig_vectors[:, i]) for i in range(len(eig_values))]\n",
    "\n",
    "# и отсортируем список по убыванию собственных значений\n",
    "eig_pairs.sort(key=lambda x: x[0], reverse=True)\n",
    "\n",
    "print('Собственные значения в порядке убывания:')\n",
    "for i in eig_pairs:\n",
    "    print(i[0])"
   ]
  },
  {
   "cell_type": "code",
   "execution_count": 5,
   "id": "44a43ea8",
   "metadata": {},
   "outputs": [
    {
     "name": "stdout",
     "output_type": "stream",
     "text": [
      "Матрица весов W:\n",
      " [[ 0.52106591 -0.37741762]\n",
      " [-0.26934744 -0.92329566]\n",
      " [ 0.5804131  -0.02449161]\n",
      " [ 0.56485654 -0.06694199]]\n"
     ]
    }
   ],
   "source": [
    "# Сформируем вектор весов из собственных векторов, соответствующих первым двум главным компонентам\n",
    "W = np.hstack((eig_pairs[0][1].reshape(4,1), eig_pairs[1][1].reshape(4,1)))\n",
    "\n",
    "print(f'Матрица весов W:\\n', W)"
   ]
  },
  {
   "cell_type": "code",
   "execution_count": 6,
   "id": "935386ef",
   "metadata": {},
   "outputs": [
    {
     "data": {
      "text/plain": [
       "(150, 2)"
      ]
     },
     "execution_count": 6,
     "metadata": {},
     "output_type": "execute_result"
    }
   ],
   "source": [
    "# Сформируем новую матрицу \"объекты-признаки\"\n",
    "Z = X_.dot(W)\n",
    "Z.shape"
   ]
  },
  {
   "cell_type": "markdown",
   "id": "5f6528e4",
   "metadata": {},
   "source": [
    "Напишем функцию, реализующую метод главных компонент через сингулярное разложение матрицы."
   ]
  },
  {
   "cell_type": "code",
   "execution_count": 20,
   "id": "5268b178",
   "metadata": {},
   "outputs": [
    {
     "data": {
      "text/plain": [
       "((150, 150), (4,), (4, 4))"
      ]
     },
     "execution_count": 20,
     "metadata": {},
     "output_type": "execute_result"
    }
   ],
   "source": [
    "U, D, V = np.linalg.svd(X_)\n",
    "U.shape, D.shape, V.shape"
   ]
  },
  {
   "cell_type": "code",
   "execution_count": 34,
   "id": "aeb06d0a",
   "metadata": {},
   "outputs": [],
   "source": [
    "def pca_svd(X, n):\n",
    "# Функция возвращает новую матрицу \"объекты-признаки\" и печатает матрицу весов\n",
    "    U, D, V = np.linalg.svd(X)\n",
    "    assert n <= len(V[:,0]), 'Новое количество признаков больше старого'\n",
    "    W = V.T[:,:2]\n",
    "    print(W)\n",
    "    Z = X.dot(W)\n",
    "    return Z"
   ]
  },
  {
   "cell_type": "code",
   "execution_count": 37,
   "id": "dc247aa9",
   "metadata": {},
   "outputs": [
    {
     "name": "stdout",
     "output_type": "stream",
     "text": [
      "[[ 0.52106591 -0.37741762]\n",
      " [-0.26934744 -0.92329566]\n",
      " [ 0.5804131  -0.02449161]\n",
      " [ 0.56485654 -0.06694199]]\n"
     ]
    },
    {
     "data": {
      "text/plain": [
       "(150, 2)"
      ]
     },
     "execution_count": 37,
     "metadata": {},
     "output_type": "execute_result"
    }
   ],
   "source": [
    "(pca_svd(X_, 2)).shape"
   ]
  },
  {
   "cell_type": "markdown",
   "id": "c4f18996",
   "metadata": {},
   "source": [
    "Матрица весов и размер новой матрицы \"объекты-признаки\" совпали. Метод работает."
   ]
  }
 ],
 "metadata": {
  "kernelspec": {
   "display_name": "Python 3",
   "language": "python",
   "name": "python3"
  },
  "language_info": {
   "codemirror_mode": {
    "name": "ipython",
    "version": 3
   },
   "file_extension": ".py",
   "mimetype": "text/x-python",
   "name": "python",
   "nbconvert_exporter": "python",
   "pygments_lexer": "ipython3",
   "version": "3.8.8"
  }
 },
 "nbformat": 4,
 "nbformat_minor": 5
}
