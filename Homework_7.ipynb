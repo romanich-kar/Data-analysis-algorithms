{
 "cells": [
  {
   "cell_type": "markdown",
   "id": "884ec529",
   "metadata": {},
   "source": [
    "## Домашнее задание к уроку №7"
   ]
  },
  {
   "cell_type": "markdown",
   "id": "624f3d53",
   "metadata": {},
   "source": [
    "1. К алгоритму kNN, представленному на уроке, реализуйте добавление весов для соседей по любому из показанных на уроке принципов. Сравните точность нового алгоритма с исходным при разных значениях k."
   ]
  },
  {
   "cell_type": "markdown",
   "id": "fb7cde07",
   "metadata": {},
   "source": [
    "Повторим реализацию алгоритма kNN из урока и загрузим тренировочный датасет."
   ]
  },
  {
   "cell_type": "code",
   "execution_count": 1,
   "id": "83bcf7b6",
   "metadata": {},
   "outputs": [],
   "source": [
    "import numpy as np\n",
    "from sklearn import model_selection\n",
    "from sklearn.datasets import load_iris\n",
    "import matplotlib.pyplot as plt\n",
    "from matplotlib.colors import ListedColormap"
   ]
  },
  {
   "cell_type": "code",
   "execution_count": 2,
   "id": "2426f45c",
   "metadata": {},
   "outputs": [],
   "source": [
    "X, y = load_iris(return_X_y=True)\n",
    "\n",
    "# Для наглядности возьмем только первые два признака (всего в датасете их 4)\n",
    "X = X[:, :2]"
   ]
  },
  {
   "cell_type": "code",
   "execution_count": 3,
   "id": "63aeffb6",
   "metadata": {},
   "outputs": [],
   "source": [
    "X_train, X_test, y_train, y_test = model_selection.train_test_split(X, y, test_size=0.2, random_state=1)"
   ]
  },
  {
   "cell_type": "markdown",
   "id": "0b9818e4",
   "metadata": {},
   "source": [
    "Используем евклидову метрику. Реализуем функцию для ее подсчета."
   ]
  },
  {
   "cell_type": "code",
   "execution_count": 4,
   "id": "92f1e43f",
   "metadata": {},
   "outputs": [],
   "source": [
    "def e_metrics(x1, x2):\n",
    "    distance = 0\n",
    "    for i in range(len(x1)):\n",
    "        distance += np.square(x1[i] - x2[i])\n",
    "    return np.sqrt(distance)"
   ]
  },
  {
   "cell_type": "markdown",
   "id": "776bf744",
   "metadata": {},
   "source": [
    "Реализуем алгоритм поиска k ближайших соседей без учета весов соседей."
   ]
  },
  {
   "cell_type": "code",
   "execution_count": 5,
   "id": "cef41953",
   "metadata": {},
   "outputs": [],
   "source": [
    "def knn(x_train, y_train, x_test, k):\n",
    "    \n",
    "    answers = []\n",
    "    for x in x_test:\n",
    "        test_distances = []\n",
    "            \n",
    "        for i in range(len(x_train)):\n",
    "            \n",
    "            # расчет расстояния от классифицируемого объекта до\n",
    "            # объекта обучающей выборки\n",
    "            distance = e_metrics(x, x_train[i])\n",
    "            \n",
    "            # Записываем в список значение расстояния и ответа на объекте обучающей выборки\n",
    "            test_distances.append((distance, y_train[i]))\n",
    "        \n",
    "        # отберем k ближайших соседей\n",
    "        k_neighbours = sorted(test_distances)[0:k]\n",
    "                \n",
    "        # создаем словарь со всеми возможными классами\n",
    "        classes = {class_item: 0 for class_item in set(y_train)}\n",
    "        \n",
    "        # Сортируем список и среди первых k элементов подсчитаем частоту появления разных классов\n",
    "        for d in k_neighbours:\n",
    "            classes[d[1]] += 1 # вес каждого соседа равен 1\n",
    "            \n",
    "        # Записываем в список ответов наиболее часто встречающийся класс\n",
    "        answers.append(sorted(classes, key=classes.get)[-1])\n",
    "    return answers"
   ]
  },
  {
   "cell_type": "markdown",
   "id": "7dc64db6",
   "metadata": {},
   "source": [
    "Теперь скорректируем эту функцию с учетом веса соседа по его номеру."
   ]
  },
  {
   "cell_type": "code",
   "execution_count": 25,
   "id": "4259e15e",
   "metadata": {},
   "outputs": [],
   "source": [
    "def knn_w(x_train, y_train, x_test, k):\n",
    "    \n",
    "    answers = []\n",
    "    for x in x_test:\n",
    "        test_distances = []\n",
    "            \n",
    "        for i in range(len(x_train)):\n",
    "            \n",
    "            # расчет расстояния от классифицируемого объекта до\n",
    "            # объекта обучающей выборки\n",
    "            distance = e_metrics(x, x_train[i])\n",
    "            \n",
    "            # Записываем в список значение расстояния и ответа на объекте обучающей выборки\n",
    "            test_distances.append((distance, y_train[i]))\n",
    "        \n",
    "        # отберем k ближайших соседей\n",
    "        k_neighbours = sorted(test_distances)[0:k]\n",
    "                \n",
    "        # создаем словарь со всеми возможными классами\n",
    "        classes = {class_item: 0 for class_item in set(y_train)}\n",
    "        \n",
    "        # Сортируем список и среди первых k элементов подсчитаем частоту появления разных классов\n",
    "        for n, d in enumerate(k_neighbours):\n",
    "            classes[d[1]] += 0.9**n # вес каждого соседа определяется в соответствии с его номером (т.е. близостью)\n",
    "            \n",
    "        # Записываем в список ответов наиболее часто встречающийся класс\n",
    "        answers.append(sorted(classes, key=classes.get)[-1])\n",
    "    return answers"
   ]
  },
  {
   "cell_type": "markdown",
   "id": "3aeb0453",
   "metadata": {},
   "source": [
    "Напишем функцию для вычисления точности:"
   ]
  },
  {
   "cell_type": "code",
   "execution_count": 9,
   "id": "ad039889",
   "metadata": {},
   "outputs": [],
   "source": [
    "def accuracy(pred, y):\n",
    "    return (sum(pred == y) / len(y))"
   ]
  },
  {
   "cell_type": "raw",
   "id": "391baab2",
   "metadata": {},
   "source": [
    "Проверим точность классического алгоритма при различных k:"
   ]
  },
  {
   "cell_type": "code",
   "execution_count": 17,
   "id": "a5e18774",
   "metadata": {},
   "outputs": [
    {
     "data": {
      "text/plain": [
       "[0.6666666666666666,\n",
       " 0.6666666666666666,\n",
       " 0.7333333333333333,\n",
       " 0.8333333333333334,\n",
       " 0.8666666666666667,\n",
       " 0.8333333333333334,\n",
       " 0.8,\n",
       " 0.8,\n",
       " 0.8666666666666667,\n",
       " 0.8333333333333334]"
      ]
     },
     "execution_count": 17,
     "metadata": {},
     "output_type": "execute_result"
    }
   ],
   "source": [
    "accuracy_knn = []\n",
    "for k in range(1, 11):\n",
    "    y_pred = knn(X_train, y_train, X_test, k)\n",
    "    accuracy_knn.append(accuracy(y_pred, y_test))\n",
    "accuracy_knn"
   ]
  },
  {
   "cell_type": "markdown",
   "id": "b9903e67",
   "metadata": {},
   "source": [
    "Проделаем то же самое для алгоритма с учетом весов:"
   ]
  },
  {
   "cell_type": "code",
   "execution_count": 26,
   "id": "0720a199",
   "metadata": {},
   "outputs": [
    {
     "data": {
      "text/plain": [
       "[0.6666666666666666,\n",
       " 0.6666666666666666,\n",
       " 0.7333333333333333,\n",
       " 0.7333333333333333,\n",
       " 0.8666666666666667,\n",
       " 0.8333333333333334,\n",
       " 0.8333333333333334,\n",
       " 0.8,\n",
       " 0.8666666666666667,\n",
       " 0.8666666666666667]"
      ]
     },
     "execution_count": 26,
     "metadata": {},
     "output_type": "execute_result"
    }
   ],
   "source": [
    "accuracy_knn_w = []\n",
    "for k in range(1, 11):\n",
    "    y_pred = knn_w(X_train, y_train, X_test, k)\n",
    "    accuracy_knn_w.append(accuracy(y_pred, y_test))\n",
    "accuracy_knn_w"
   ]
  },
  {
   "cell_type": "markdown",
   "id": "4727a6dd",
   "metadata": {},
   "source": [
    "Визуализируем результаты:"
   ]
  },
  {
   "cell_type": "code",
   "execution_count": 31,
   "id": "859c8e3c",
   "metadata": {},
   "outputs": [
    {
     "data": {
      "image/png": "[encoded data removed]",
      "text/plain": [
       "<Figure size 504x504 with 1 Axes>"
      ]
     },
     "metadata": {
      "needs_background": "light"
     },
     "output_type": "display_data"
    }
   ],
   "source": [
    "plt.figure(figsize=(7,7))\n",
    "plt.plot(range(1, 11), accuracy_knn, label = 'Без весов')\n",
    "plt.plot(range(1, 11), accuracy_knn_w, label = 'С весами')\n",
    "plt.xlabel('k')\n",
    "plt.ylabel('accuracy')\n",
    "plt.legend()\n",
    "plt.show()"
   ]
  },
  {
   "cell_type": "markdown",
   "id": "ee628f00",
   "metadata": {},
   "source": [
    "Как видно из графиков, различия в качестве алгоритмов проявляется только при росте k."
   ]
  },
  {
   "cell_type": "markdown",
   "id": "f8d072b5",
   "metadata": {},
   "source": [
    "2. (*) Напишите функцию подсчета метрики качества кластеризации как среднее квадратичное внутрикластерное расстояние и постройте график ее зависимости от количества кластеров k (взять от 1 до 10) для выборки данных из данного урока (создать датасет, как в методичке)."
   ]
  },
  {
   "cell_type": "markdown",
   "id": "a4ffa47b",
   "metadata": {},
   "source": [
    "Сгенерируем датасет из урока."
   ]
  },
  {
   "cell_type": "code",
   "execution_count": 32,
   "id": "d1095634",
   "metadata": {},
   "outputs": [],
   "source": [
    "from sklearn.datasets import make_blobs\n",
    "import random\n",
    "\n",
    "X, y = make_blobs(n_samples=100, random_state=1)"
   ]
  },
  {
   "cell_type": "markdown",
   "id": "994f1401",
   "metadata": {},
   "source": [
    "Реализуем основной цикл алгоритма."
   ]
  },
  {
   "cell_type": "code",
   "execution_count": 34,
   "id": "842f4eda",
   "metadata": {},
   "outputs": [],
   "source": [
    "def kmeans(data, k, max_iterations, min_distance):\n",
    "       \n",
    "    # инициализируем центроиды как первые k элементов датасета\n",
    "    centroids = [data[i] for i in range(k)]\n",
    "    \n",
    "    for _ in range(max_iterations):\n",
    "        # Создадим словарь для классификации\n",
    "        classes = {i: [] for i in range(k)}\n",
    "        # классифицируем объекты по центроидам\n",
    "        for x in data:\n",
    "            # определим расстояния от объекта до каждого центроида\n",
    "            distances = [e_metrics(x, centroid) for centroid in centroids]\n",
    "            # отнесем объект к кластеру, до центроида которого наименьшее расстояние\n",
    "            classification = distances.index(min(distances))\n",
    "            classes[classification].append(x)\n",
    "        \n",
    "        # сохраним предыдущие центроиды в отдельный список для последующего сравнения сновыми\n",
    "        old_centroids = centroids.copy()\n",
    "        \n",
    "        # пересчитаем центроиды как среднее по кластерам\n",
    "        for classification in classes:\n",
    "            centroids[classification] = np.average(classes[classification], axis=0)\n",
    "            \n",
    "        # сравним величину смещения центроидов с минимальной\n",
    "        optimal = True\n",
    "        for centroid in range(len(centroids)):\n",
    "            if np.sum(abs((centroids[centroid] - old_centroids[centroid]) / old_centroids * 100)) > min_distance:\n",
    "                optimal = False\n",
    "                \n",
    "        # если все смещения меньше минимального, останавливаем алгоритм  \n",
    "        if optimal:\n",
    "            break\n",
    "    \n",
    "    return old_centroids, classes"
   ]
  },
  {
   "cell_type": "markdown",
   "id": "11806458",
   "metadata": {},
   "source": [
    "Функция подсчета метрики качества кластеризации как среднего квадратичного внутрикластерного расстояния."
   ]
  },
  {
   "cell_type": "code",
   "execution_count": 41,
   "id": "34c389e9",
   "metadata": {},
   "outputs": [],
   "source": [
    "def sq_distance(k):\n",
    "    centroids, classes = kmeans(X, k, max_iterations, min_distance)\n",
    "    distance = 0\n",
    "    for i in classes:\n",
    "        distance += sum(classes[i])**2\n",
    "    return distance / k"
   ]
  }
 ],
 "metadata": {
  "kernelspec": {
   "display_name": "Python 3",
   "language": "python",
   "name": "python3"
  },
  "language_info": {
   "codemirror_mode": {
    "name": "ipython",
    "version": 3
   },
   "file_extension": ".py",
   "mimetype": "text/x-python",
   "name": "python",
   "nbconvert_exporter": "python",
   "pygments_lexer": "ipython3",
   "version": "3.8.8"
  }
 },
 "nbformat": 4,
 "nbformat_minor": 5
}
