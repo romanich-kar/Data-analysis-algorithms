{
  "nbformat": 4,
  "nbformat_minor": 0,
  "metadata": {
    "colab": {
      "name": "Homework_1.ipynb",
      "provenance": [],
      "collapsed_sections": []
    },
    "kernelspec": {
      "name": "python3",
      "display_name": "Python 3"
    },
    "language_info": {
      "name": "python"
    }
  },
  "cells": [
    {
      "cell_type": "markdown",
      "source": [
        "***Домашнее задание к уроку №1***\n",
        "\n",
        "1. Оценить влияние скорости обучения и количества итераций на ошибку алгоритма. Как связаны эти два гиперпараметра между собой? Подобрать скорость обучения и количества итераций до совпадения ответов алгоритма с данными МНК. Как можно ускорить процесс вычисления весов?"
      ],
      "metadata": {
        "id": "R7-gfFMaGN1i"
      }
    },
    {
      "cell_type": "code",
      "execution_count": 43,
      "metadata": {
        "id": "0xDdHegAGI0O"
      },
      "outputs": [],
      "source": [
        "import numpy as np\n",
        "import matplotlib.pyplot as plt\n",
        "plt.rcParams.update({'font.size': 14,\n",
        "                     'xtick.labelsize': 14})"
      ]
    },
    {
      "cell_type": "code",
      "source": [
        "X = np.array([[1, 1, 1, 1, 1, 1, 1, 1, 1, 1],\n",
        "              [1, 1, 2, 1, 3, 0, 5, 10, 1, 2]]).T\n",
        "y = [45, 55, 50, 59, 65, 35, 75, 80, 50, 60]"
      ],
      "metadata": {
        "id": "HwzCZrxRGgOz"
      },
      "execution_count": 6,
      "outputs": []
    },
    {
      "cell_type": "code",
      "source": [
        "def calc_mse(y, y_pred):\n",
        "    err = np.mean((y - y_pred)**2)\n",
        "    return err\n",
        "\n",
        "def calc_mae(y, y_pred):\n",
        "    err = np.mean(np.abs(y - y_pred))\n",
        "    return err"
      ],
      "metadata": {
        "id": "COkmAqaIGrZU"
      },
      "execution_count": 4,
      "outputs": []
    },
    {
      "cell_type": "code",
      "source": [
        "n = X.shape[0]\n",
        "eta = 0.005\n",
        "iterations = 3001\n",
        "w = np.array([1, 0.5])\n",
        "\n",
        "for i in range(iterations):\n",
        "    y_pred = np.dot(w, X.T)\n",
        "    err = calc_mse(y, y_pred)\n",
        "    for j in range(w.shape[0]):\n",
        "        w[j] -= eta * (1/n * 2 * np.sum(X[:,j] * (y_pred - y)))\n",
        "    if i % 500 == 0:\n",
        "        print(i, w, err) #Значения по МНК: array([47.23214286,  3.91071429]) 45.937499999999986"
      ],
      "metadata": {
        "colab": {
          "base_uri": "https://localhost:8080/"
        },
        "id": "aS8HUs5wG8tc",
        "outputId": "3ae8a2cd-6ba5-45ef-b36c-97228b4dca40"
      },
      "execution_count": 48,
      "outputs": [
        {
          "output_type": "stream",
          "name": "stdout",
          "text": [
            "0 [1.551 2.2  ] 3173.15\n",
            "500 [43.99404809  4.50865326] 51.63363194423746\n",
            "1000 [46.99313195  3.95484948] 45.96853390140358\n",
            "1500 [47.21450094  3.913972  ] 45.93766908018385\n",
            "2000 [47.23084067  3.91095474] 45.937500921189624\n",
            "2500 [47.23204674  3.91073203] 45.93750000501886\n",
            "3000 [47.23213576  3.9107156 ] 45.937500000027356\n"
          ]
        }
      ]
    },
    {
      "cell_type": "markdown",
      "source": [
        "Выводы:\n",
        "\n",
        "Чем меньше скорость обучения (eta), тем меньше ошибка метода градиентного спуска в конечном счете (при большом количестве итераций). Также и с увеличением количества итераций (n) ошибка метода уменьшается. Но при этом точность метода зависит в первую очередь от скорости обучения (eta). При больших его значениях (например, я пробовал 0,1) расчет вообще не сходится, а колебается вокруг точки минимума функции производной. Точность результатов при этом очень низкая.\n",
        "\n",
        "Скорость вычисления весов прямо пропорциональна параметру eta, поэтому для увеличения скорости расчета надо увеличивать этот параметр, при этом точность расчета будет снижаться.\n",
        "\n",
        "Точность расчета весов прямо пропорциональна параметру n, при этом скорость расчета обратно пропорциональна этому параметру. Для увеличения скорости расчета необходимо снижать n.\n",
        "\n",
        "Оптимально сначала определить eta, при котором расчет сходится с приемлемой точностью, а потом постепенно уменьшать n.\n",
        "\n",
        "Для расчета в домашнем задании я выбрал eta = 0.005, n = 3000. Тогда значения весов совпадают со значениями, рассчитанными по МНК, с точностью до 5 знака после запятой."
      ],
      "metadata": {
        "id": "Gb6J6MYVjaM5"
      }
    },
    {
      "cell_type": "markdown",
      "source": [
        "Ниже представлены графики зависимости MSE от eta и n:"
      ],
      "metadata": {
        "id": "vzQn37w4CO9f"
      }
    },
    {
      "cell_type": "code",
      "source": [
        "A = np.array([0.001, 0.002, 0.003, 0.004, 0.005])\n",
        "B = np.array([176, 62, 48, 47, 47])\n",
        "C = np.array([1000, 1500, 2000, 2500, 3000])\n",
        "D = np.array([176, 92, 62, 52, 48])"
      ],
      "metadata": {
        "id": "u6AjgD-eCaeW"
      },
      "execution_count": 44,
      "outputs": []
    },
    {
      "cell_type": "code",
      "source": [
        "plt.plot(A, B)\n",
        "plt.xlabel('eta при n=1000')\n",
        "plt.ylabel('MSE')"
      ],
      "metadata": {
        "colab": {
          "base_uri": "https://localhost:8080/",
          "height": 304
        },
        "id": "15-4XwERDO2A",
        "outputId": "77c2853d-b5db-4d40-b148-3eb4cdc4a5e4"
      },
      "execution_count": 46,
      "outputs": [
        {
          "output_type": "execute_result",
          "data": {
            "text/plain": [
              "Text(0, 0.5, 'MSE')"
            ]
          },
          "metadata": {},
          "execution_count": 46
        },
        {
          "output_type": "display_data",
          "data": {
            "image/png": "[encoded data removed]",
            "text/plain": [
              "<Figure size 432x288 with 1 Axes>"
            ]
          },
          "metadata": {
            "needs_background": "light"
          }
        }
      ]
    },
    {
      "cell_type": "code",
      "source": [
        "plt.plot(C, D)\n",
        "plt.xlabel('n при eta=0.001')\n",
        "plt.ylabel('MSE')"
      ],
      "metadata": {
        "colab": {
          "base_uri": "https://localhost:8080/",
          "height": 304
        },
        "id": "AXas3jRVD-Gi",
        "outputId": "5ba3cc55-e3db-41f7-a831-444c9dc50098"
      },
      "execution_count": 47,
      "outputs": [
        {
          "output_type": "execute_result",
          "data": {
            "text/plain": [
              "Text(0, 0.5, 'MSE')"
            ]
          },
          "metadata": {},
          "execution_count": 47
        },
        {
          "output_type": "display_data",
          "data": {
            "image/png": "[encoded data removed]",
            "text/plain": [
              "<Figure size 432x288 with 1 Axes>"
            ]
          },
          "metadata": {
            "needs_background": "light"
          }
        }
      ]
    },
    {
      "cell_type": "markdown",
      "source": [
        "2*. Исправить ошибку в коде:"
      ],
      "metadata": {
        "id": "1Jk2Dp14E0SB"
      }
    },
    {
      "cell_type": "code",
      "source": [
        "w = np.array([1, 0.5])\n",
        "\n",
        "for i in range(iterations):\n",
        "    y_pred = np.dot(w, X.T)\n",
        "    err = calc_mse(y, y_pred)\n",
        "    w -= (eta * (1/n * 2 * (X.T @ (y_pred - y))))\n",
        "    if i % 500 == 0:\n",
        "        print(i, w, err) # [47.23214286  3.91071429] 45.937499999999986"
      ],
      "metadata": {
        "colab": {
          "base_uri": "https://localhost:8080/"
        },
        "id": "X2KEAhGBFix4",
        "outputId": "3449cc7d-8af2-465b-e816-e07b53766465"
      },
      "execution_count": 62,
      "outputs": [
        {
          "output_type": "stream",
          "name": "stdout",
          "text": [
            "0 [1.551 2.2  ] 3173.15\n",
            "500 [43.99404809  4.50865326] 51.63363194423746\n",
            "1000 [46.99313195  3.95484948] 45.96853390140358\n",
            "1500 [47.21450094  3.913972  ] 45.93766908018385\n",
            "2000 [47.23084067  3.91095474] 45.937500921189624\n",
            "2500 [47.23204674  3.91073203] 45.93750000501886\n",
            "3000 [47.23213576  3.9107156 ] 45.937500000027356\n"
          ]
        }
      ]
    },
    {
      "cell_type": "code",
      "source": [
        "Я убрал операцию суммирования, т.к. она выполняется внутри функции скалярного произведения векторов numpy."
      ],
      "metadata": {
        "id": "TyX41zY2Jmet"
      },
      "execution_count": null,
      "outputs": []
    },
    {
      "cell_type": "markdown",
      "source": [
        "3*.Задать условие остановки итераций при снижении ошибки за итерацию до заданного значения."
      ],
      "metadata": {
        "id": "4QvUox6OQbgU"
      }
    },
    {
      "cell_type": "code",
      "source": [
        "w = np.array([1, 0.5])\n",
        "eta = 0.01\n",
        "i = 0\n",
        "diff = 1e-6\n",
        "err2 = 0\n",
        "while True:\n",
        "    y_pred = np.dot(w, X.T)\n",
        "    err1 = calc_mse(y, y_pred)\n",
        "    w -= (eta * (1/n * 2 * (X.T @ (y_pred - y))))\n",
        "    delta_err = np.abs(err1 - err2)\n",
        "    i +=1\n",
        "    if delta_err < diff:\n",
        "      break\n",
        "    err2 = err1\n",
        "    if i % 100 == 0:\n",
        "        print(i, w, err)"
      ],
      "metadata": {
        "colab": {
          "base_uri": "https://localhost:8080/"
        },
        "id": "MlWydX31Se0K",
        "outputId": "a1dce662-0236-45c7-918b-a6394e531e5f"
      },
      "execution_count": 71,
      "outputs": [
        {
          "output_type": "stream",
          "name": "stdout",
          "text": [
            "100 [31.72648327  6.77395294] 45.9375\n",
            "200 [41.78014899  4.91746666] 45.9375\n",
            "300 [45.3151501   4.26470166] 45.9375\n",
            "400 [46.55810299  4.0351809 ] 45.9375\n",
            "500 [46.99514157  3.95447839] 45.9375\n",
            "600 [47.14881009  3.92610232] 45.9375\n",
            "700 [47.20284196  3.91612492] 45.9375\n",
            "800 [47.22184028  3.91261674] 45.9375\n"
          ]
        }
      ]
    },
    {
      "cell_type": "markdown",
      "source": [
        "При заданных eta = 0.01 и diff = 1e-6 цикл завершится на 809 итерации."
      ],
      "metadata": {
        "id": "VR9szroMVWvC"
      }
    }
  ]
}