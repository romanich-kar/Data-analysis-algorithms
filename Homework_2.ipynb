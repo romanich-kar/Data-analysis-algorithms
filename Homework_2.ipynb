{
  "cells": [
    {
      "cell_type": "markdown",
      "id": "6514843e",
      "metadata": {
        "id": "6514843e"
      },
      "source": [
        "### Домашнее задание к уроку №2\n",
        "\n",
        "1. Сгенерировать датасет при помощи `sklearn.datasets.make_regression` и обучить линейную модель при помощи градиентного спуска и  стохастического градиентного спуска. Построить графики среднеквадратичной ошибки от числа итераций для обоих методов на одном рисунке, сделать выводы о разнице скорости сходимости каждого из методов."
      ]
    },
    {
      "cell_type": "code",
      "execution_count": 1,
      "id": "a39449d4",
      "metadata": {
        "id": "a39449d4"
      },
      "outputs": [],
      "source": [
        "import numpy as np\n",
        "import random\n",
        "import matplotlib.pyplot as plt\n",
        "plt.rcParams.update({'font.size': 14,\n",
        "                     'xtick.labelsize': 14})\n",
        "from sklearn import datasets"
      ]
    },
    {
      "cell_type": "code",
      "execution_count": 2,
      "id": "50ac0063",
      "metadata": {
        "colab": {
          "base_uri": "https://localhost:8080/"
        },
        "id": "50ac0063",
        "outputId": "4e10c352-4a10-4d43-ed3f-60f09d31928f"
      },
      "outputs": [
        {
          "output_type": "execute_result",
          "data": {
            "text/plain": [
              "array([98.35672065, 81.87402295, 25.9670839 ])"
            ]
          },
          "metadata": {},
          "execution_count": 2
        }
      ],
      "source": [
        "X, y, coef = datasets.make_regression(n_samples=1000, \n",
        "                                      n_features=3, \n",
        "                                      n_informative=3, \n",
        "                                      n_targets=1,\n",
        "                                      noise=5, \n",
        "                                      coef=True, \n",
        "                                      random_state=42)\n",
        "coef"
      ]
    },
    {
      "cell_type": "markdown",
      "id": "a15f4ff3",
      "metadata": {
        "id": "a15f4ff3"
      },
      "source": [
        "Определим функции для подсчета MSE и весов по методам классического градиентного спуска, стохастического градиентного спуска и mini-batch градиентного спуска:"
      ]
    },
    {
      "cell_type": "code",
      "execution_count": 6,
      "id": "5378a463",
      "metadata": {
        "id": "5378a463"
      },
      "outputs": [],
      "source": [
        "#Расчет MSE\n",
        "def calc_mse(y, y_pred):\n",
        "    err = np.mean((y - y_pred)**2)\n",
        "    return err\n",
        "\n",
        "# Метод градиентного спуска\n",
        "def eval_GD(X, y, iterations, eta=1e-3):\n",
        "    np.random.seed(42)\n",
        "    w = np.random.randn(X.shape[1])\n",
        "    n = X.shape[0]\n",
        "    for i in range(1, iterations + 1):\n",
        "        y_pred = np.dot(X, w)\n",
        "        err = calc_mse(y, y_pred)\n",
        "        w -= eta * (1/n * 2 * np.dot(X.T, (y_pred - y)))\n",
        "    return w\n",
        "\n",
        "# SGD - стохастический градиентный спуск\n",
        "def eval_SGD(X, y, iterations, eta=1e-3):\n",
        "    np.random.seed(42)\n",
        "    w = np.random.randn(X.shape[1]) # начальное приближение весов\n",
        "    n = X.shape[0] # число наблюдений\n",
        "    for i in range(1, iterations + 1):\n",
        "        err = calc_mse(y, np.dot(X, w))\n",
        "        # генерируем случайный индекс объекта выборки\n",
        "        ind = np.random.randint(n)\n",
        "        y_pred = np.dot(X[ind], w)\n",
        "        w -= eta * (2 * np.dot(X[ind].T, (y_pred - y[ind])))\n",
        "    return w\n",
        "\n",
        "# mini-batch градиентный спуск\n",
        "def eval_mbGD(X, y, iterations, batch=10, eta=1e-3):\n",
        "    np.random.seed(42)\n",
        "    w = np.random.randn(X.shape[1]) # начальное приближение весов\n",
        "    n = X.shape[0] # число наблюдений\n",
        "    n_batch = n // batch # число батчей\n",
        "    if n % batch != 0:\n",
        "        n_batch += 1\n",
        "    print('Количество батчей - ', n_batch)\n",
        "    for i in range(1, iterations + 1):\n",
        "        err = calc_mse(y, np.dot(X, w))\n",
        "        for b in range(n_batch):\n",
        "            start_ = batch * b\n",
        "            end_ = batch * (b + 1)\n",
        "            X_batch = X[start_ : end_, :]\n",
        "            y_batch = y[start_ : end_]\n",
        "            y_pred = np.dot(X_batch, w)\n",
        "            w -= eta * (2/len(y_batch) * np.dot(X_batch.T, (y_pred - y_batch)))\n",
        "    return w"
      ]
    },
    {
      "cell_type": "markdown",
      "id": "585e7510",
      "metadata": {
        "id": "585e7510"
      },
      "source": [
        "Визуализируем изменение весов для каждого метода при изменении количества итераций:"
      ]
    },
    {
      "cell_type": "code",
      "execution_count": 4,
      "id": "302bb5f8",
      "metadata": {
        "colab": {
          "base_uri": "https://localhost:8080/"
        },
        "id": "302bb5f8",
        "outputId": "1a6b073f-7c57-4499-e2f3-749f39341986"
      },
      "outputs": [
        {
          "output_type": "execute_result",
          "data": {
            "text/plain": [
              "array([15539.38653562, 11044.83354245,  2444.96689069,   391.77338402,\n",
              "          33.11459948,    24.44722022,    24.44709351])"
            ]
          },
          "metadata": {},
          "execution_count": 4
        }
      ],
      "source": [
        "iter_list = np.array([10, 100, 500, 1000, 2000, 5000, 10000])\n",
        "mse_list_1 = []\n",
        "\n",
        "for i in iter_list:\n",
        "    w = eval_GD(X, y, i)\n",
        "    mse_list_1.append(calc_mse(y, X @ w))\n",
        "errors_1 = np.array(mse_list_1)\n",
        "\n",
        "errors_1"
      ]
    },
    {
      "cell_type": "code",
      "execution_count": 5,
      "id": "2da1d77f",
      "metadata": {
        "colab": {
          "base_uri": "https://localhost:8080/"
        },
        "id": "2da1d77f",
        "outputId": "340cc0f0-7c5e-4a3b-ab6b-fe734ed51070"
      },
      "outputs": [
        {
          "output_type": "execute_result",
          "data": {
            "text/plain": [
              "array([15461.13629953, 11591.56879014,  2365.91026623,   366.67284983,\n",
              "          31.45381876,    24.46640331,    24.46174289])"
            ]
          },
          "metadata": {},
          "execution_count": 5
        }
      ],
      "source": [
        "mse_list_2 = []\n",
        "\n",
        "for i in iter_list:\n",
        "    w_new = eval_SGD(X, y, i)\n",
        "    mse_list_2.append(calc_mse(y, X @ w_new))\n",
        "errors_2 = np.array(mse_list_2)\n",
        "\n",
        "errors_2"
      ]
    },
    {
      "cell_type": "code",
      "source": [
        "mse_list_3 = []\n",
        "\n",
        "for i in iter_list:\n",
        "    w_new = eval_mbGD(X, y, i)\n",
        "    mse_list_3.append(calc_mse(y, X @ w_new))\n",
        "errors_3 = np.array(mse_list_3)\n",
        "\n",
        "errors_3"
      ],
      "metadata": {
        "colab": {
          "base_uri": "https://localhost:8080/"
        },
        "id": "Tyc9-vfHLEKe",
        "outputId": "35964ceb-786f-4fa5-bfe3-c0890a8f1306"
      },
      "id": "Tyc9-vfHLEKe",
      "execution_count": 7,
      "outputs": [
        {
          "output_type": "stream",
          "name": "stdout",
          "text": [
            "Количество батчей -  100\n",
            "Количество батчей -  100\n",
            "Количество батчей -  100\n",
            "Количество батчей -  100\n",
            "Количество батчей -  100\n",
            "Количество батчей -  100\n",
            "Количество батчей -  100\n"
          ]
        },
        {
          "output_type": "execute_result",
          "data": {
            "text/plain": [
              "array([391.41755071,  24.44724345,  24.44724345,  24.44724345,\n",
              "        24.44724345,  24.44724345,  24.44724345])"
            ]
          },
          "metadata": {},
          "execution_count": 7
        }
      ]
    },
    {
      "cell_type": "code",
      "source": [
        "plt.figure(figsize=(10, 5))\n",
        "plt.xscale('log')\n",
        "plt.plot(iter_list, errors_1, 'go-', label=r'GD')\n",
        "plt.plot(iter_list, errors_2, 'ro-', label=r'SGD')\n",
        "plt.plot(iter_list, errors_3, 'bo-', label=r'mbGD')\n",
        "plt.xlabel('Количество итераций')\n",
        "plt.ylabel('MSE')\n",
        "plt.grid()\n",
        "plt.legend();"
      ],
      "metadata": {
        "colab": {
          "base_uri": "https://localhost:8080/",
          "height": 342
        },
        "id": "HqFvKbB6MpQ6",
        "outputId": "82bd16f8-3305-435e-8f44-a48f3ee23b04"
      },
      "id": "HqFvKbB6MpQ6",
      "execution_count": 10,
      "outputs": [
        {
          "output_type": "display_data",
          "data": {
            "image/png": "[encoded data removed]",
            "text/plain": [
              "<Figure size 720x360 with 1 Axes>"
            ]
          },
          "metadata": {
            "needs_background": "light"
          }
        }
      ]
    },
    {
      "cell_type": "markdown",
      "source": [
        "Выводы:\n",
        "\n",
        "Расчет весов по методам классического и стохастического градиентного спусков сходятся практически с одной скоростью (при одинаковой скорости обучения eta). Расчет по методу mini-batch сошелся уже при 100 итерациях, то есть в 50 раз быстрее чем первые два метода. Но при этом веса за одну итерацию корректировались по 100 раз, что занимает больше времени."
      ],
      "metadata": {
        "id": "EOmksY3HN23Q"
      },
      "id": "EOmksY3HN23Q"
    },
    {
      "cell_type": "markdown",
      "source": [
        "2.[*] Добавить в алгоритм градиентного спуска L1 регуляризацию. Сравнить влияние коэффициентов L1 и L2 на величину весов для примера из урока (лучше графически)."
      ],
      "metadata": {
        "id": "NMdgt5zUQGV0"
      },
      "id": "NMdgt5zUQGV0"
    },
    {
      "cell_type": "markdown",
      "source": [
        "Возьмем данные из урока:"
      ],
      "metadata": {
        "id": "AMqApKS_TGnv"
      },
      "id": "AMqApKS_TGnv"
    },
    {
      "cell_type": "code",
      "source": [
        "X = np.array([[1, 1, 1, 1, 1, 1, 1, 1, 1, 1],\n",
        "              [1, 1, 2, 1, 3, 0, 5, 10, 1, 2],\n",
        "              [500, 700, 750, 600, 1450,\n",
        "               800, 1500, 2000, 450, 1000],\n",
        "              [1, 1, 2, 1, 2, 1, 3, 3, 1, 2]]).T\n",
        "               \n",
        "y = [45, 55, 50, 59, 65, 35, 75, 80, 50, 60]"
      ],
      "metadata": {
        "id": "EZJMTfN3TAuA"
      },
      "id": "EZJMTfN3TAuA",
      "execution_count": 11,
      "outputs": []
    },
    {
      "cell_type": "markdown",
      "source": [
        "Определим функции для градиентного спуска с учетом L1 И L2 регуляризации. Производная от $|w_{j}|$ равна 1 при положительных $|w_{j}|$, равна -1 при отрицательных $|w_{j}|$ и равна 0, когда $|w_{j}|$ = 0."
      ],
      "metadata": {
        "id": "fzml6e4vTVeO"
      },
      "id": "fzml6e4vTVeO"
    },
    {
      "cell_type": "code",
      "source": [
        "def eval_model_reg1(X, y, iterations, eta=1e-4, lambda_=1e-8, verbose=False):\n",
        "    np.random.seed(42)\n",
        "    w = np.random.randn(X.shape[1])\n",
        "    n = X.shape[0]\n",
        "    for i in range(1, iterations + 1):\n",
        "        y_pred = np.dot(X, w)\n",
        "        err = calc_mse(y, y_pred)\n",
        "        for j in range(w.shape[0]):\n",
        "          if w[j] > 0:\n",
        "            w[j] -= eta * (1/n * 2 * np.sum(X[:,j] * (y_pred - y)) + lambda_)\n",
        "          elif w[j] < 0:\n",
        "            w[j] -= eta * (1/n * 2 * np.sum(X[:,j] * (y_pred - y)) - lambda_)\n",
        "          else:\n",
        "            w[j] -= eta * (1/n * 2 * np.sum(X[:,j] * (y_pred - y)))\n",
        "        if verbose and i % (iterations / 10) == 0:\n",
        "            print(f'{i}: weights={w}, MSE={err:.3f}')\n",
        "    return w"
      ],
      "metadata": {
        "id": "JQFFPjP-U6ce"
      },
      "id": "JQFFPjP-U6ce",
      "execution_count": 15,
      "outputs": []
    },
    {
      "cell_type": "code",
      "source": [
        "def eval_model_reg2(X, y, iterations, eta=1e-4, lambda_=1e-8, verbose=False):\n",
        "    np.random.seed(42)\n",
        "    w = np.random.randn(X.shape[1])\n",
        "    n = X.shape[0]\n",
        "    for i in range(1, iterations + 1):\n",
        "        y_pred = np.dot(X, w)\n",
        "        err = calc_mse(y, y_pred)\n",
        "        w -= eta * (1/n * 2 * np.dot(X.T, (y_pred - y)) + 2 * lambda_ * w)\n",
        "        if verbose and i % (iterations / 10) == 0:\n",
        "            print(f'{i}: weights={w}, MSE={err:.3f}')\n",
        "    return w"
      ],
      "metadata": {
        "id": "ihudrlQsU_6c"
      },
      "id": "ihudrlQsU_6c",
      "execution_count": 30,
      "outputs": []
    },
    {
      "cell_type": "markdown",
      "source": [
        "Стандартизируем признаки X:"
      ],
      "metadata": {
        "id": "DYZ6RQDnZ4m1"
      },
      "id": "DYZ6RQDnZ4m1"
    },
    {
      "cell_type": "code",
      "source": [
        "X_st = X.copy().astype(np.float64)\n",
        "\n",
        "X_st[:, 1] = (X[:, 1] - X[:, 1].mean()) / X[:, 1].std()\n",
        "X_st[:, 1]"
      ],
      "metadata": {
        "colab": {
          "base_uri": "https://localhost:8080/"
        },
        "id": "I6NBwpqQZkBc",
        "outputId": "58fbc3c6-9352-4f7b-c16d-fe2f5d1b906e"
      },
      "id": "I6NBwpqQZkBc",
      "execution_count": 32,
      "outputs": [
        {
          "output_type": "execute_result",
          "data": {
            "text/plain": [
              "array([-0.57142857, -0.57142857, -0.21428571, -0.57142857,  0.14285714,\n",
              "       -0.92857143,  0.85714286,  2.64285714, -0.57142857, -0.21428571])"
            ]
          },
          "metadata": {},
          "execution_count": 32
        }
      ]
    },
    {
      "cell_type": "code",
      "source": [
        "w = eval_model_reg1(X_st, y, iterations=100, eta=1e-4, lambda_=0.001, verbose=True)"
      ],
      "metadata": {
        "colab": {
          "base_uri": "https://localhost:8080/"
        },
        "id": "-ymyQ190XPfJ",
        "outputId": "00146a37-dba7-498a-97f9-e908dd294dc6"
      },
      "id": "-ymyQ190XPfJ",
      "execution_count": 33,
      "outputs": [
        {
          "output_type": "stream",
          "name": "stdout",
          "text": [
            "10: weights=[2.65693473e+20 1.19221388e+20 3.23124095e+23 5.43649721e+20], MSE=2220015003616234519835471995056824763168650690560.000\n",
            "20: weights=[1.43309926e+44 6.43057136e+43 1.74286895e+47 2.93234157e+44], MSE=645872337691608730420304848601965071226045868790961114415272644731806492445167327465182473486336.000\n",
            "30: weights=[7.72986057e+67 3.46852596e+67 9.40069840e+70 1.58164839e+68], MSE=187904620426310645744791534307805983417172452719091579546776820903903657502325303492840820180430610722938851921163881890577999643904684421283840.000\n",
            "40: weights=[4.16933746e+91 1.87085589e+91 5.07055511e+94 8.53110587e+91], MSE=54667376688943788571374009295210561014428547534720630927265249589226812252610818992668536140409684957912099491794189835895543397046698141861707871600230438871370791409769997473330022420840448.000\n",
            "50: weights=[2.24886008e+115 1.00910353e+115 2.73495947e+118 4.60151370e+115], MSE=15904462951845649975435256164724982457026077379567971907482305624878246877114275631258111697384473257105696239110075470299699270809789723703918695252467865175642406796359381718212772314494756682804276095174629461424528738253473098156212224.000\n",
            "60: weights=[1.21299168e+139 5.44290948e+138 1.47518430e+142 2.48196759e+139], MSE=4627109568946806387118786942741140862383581733445569603193275772883244315546271887648029426879394023446767760887645118041149552240811954982386387661458901099860346090637437399289381690511949640477049636800405363602709262645626497732581769754439169269175918749672678957698280295843758080.000\n",
            "70: weights=[6.54264279e+162 2.93580022e+162 7.95685913e+165 1.33872537e+163], MSE=inf\n",
            "80: weights=[3.52897512e+186 1.58351392e+186 4.29177610e+189 7.22082602e+186], MSE=inf\n",
            "90: weights=[1.90346101e+210 8.54116818e+209 2.31490111e+213 3.89477406e+210], MSE=inf\n",
            "100: weights=[1.02669009e+234 4.60694111e+233 1.24861294e+237 2.10076588e+234], MSE=inf\n"
          ]
        },
        {
          "output_type": "stream",
          "name": "stderr",
          "text": [
            "/usr/local/lib/python3.7/dist-packages/ipykernel_launcher.py:3: RuntimeWarning: overflow encountered in square\n",
            "  This is separate from the ipykernel package so we can avoid doing imports until\n"
          ]
        }
      ]
    },
    {
      "cell_type": "code",
      "source": [
        "w = eval_model_reg2(X_st, y, iterations=100, eta=1e-4, lambda_=0.001, verbose=True)"
      ],
      "metadata": {
        "colab": {
          "base_uri": "https://localhost:8080/"
        },
        "id": "0gDoiiANYbyQ",
        "outputId": "63657130-e322-4c2f-dc8b-763c08d637cb"
      },
      "id": "0gDoiiANYbyQ",
      "execution_count": 34,
      "outputs": [
        {
          "output_type": "stream",
          "name": "stdout",
          "text": [
            "10: weights=[2.65693475e+20 1.19221389e+20 3.23124098e+23 5.43649725e+20], MSE=2220015034622883177556904647863767979788219711488.000\n",
            "20: weights=[1.43309929e+44 6.43057146e+43 1.74286898e+47 2.93234162e+44], MSE=645872357652415516933378999762788815619515364948820113929458859591291702442271261067888274964480.000\n",
            "30: weights=[7.72986076e+67 3.46852604e+67 9.40069863e+70 1.58164843e+68], MSE=187904629416328324341590286134824760921256649464869929572542246836527539797137842764577250681774525873810504025281870265834575260377862876692480.000\n",
            "40: weights=[4.16933760e+91 1.87085596e+91 5.07055527e+94 8.53110616e+91], MSE=54667380230397177616669960991963569910834123039002466318417450455995133288003848818319120059926138839833003643971657557186858020340034177489961536795995821554958925379486758307843991089971200.000\n",
            "50: weights=[2.24886017e+115 1.00910357e+115 2.73495958e+118 4.60151389e+115], MSE=15904464251561034613441495476199382667760212637424801852019690890349757267075054175114501227979827955824563436478187866412301507046830550562809768213811343957401058664419061095811504575964321546984034110797816472870961442059984395346903040.000\n",
            "60: weights=[1.21299174e+139 5.44290975e+138 1.47518437e+142 2.48196772e+139], MSE=4627110025450456492260248298114443355816304691986768069109856179295117590287644506436412117417381392318275688703411423287848976803560967339681429490879055323323270638134019431692250736535226050141543634622747196927900107905750267179942442631561614146661395726338569655800149450755670016.000\n",
            "70: weights=[6.54264317e+162 2.93580039e+162 7.95685959e+165 1.33872545e+163], MSE=inf\n",
            "80: weights=[3.52897536e+186 1.58351403e+186 4.29177638e+189 7.22082651e+186], MSE=inf\n",
            "90: weights=[1.90346115e+210 8.54116883e+209 2.31490129e+213 3.89477435e+210], MSE=inf\n",
            "100: weights=[1.02669018e+234 4.60694150e+233 1.24861304e+237 2.10076606e+234], MSE=inf\n"
          ]
        },
        {
          "output_type": "stream",
          "name": "stderr",
          "text": [
            "/usr/local/lib/python3.7/dist-packages/ipykernel_launcher.py:3: RuntimeWarning: overflow encountered in square\n",
            "  This is separate from the ipykernel package so we can avoid doing imports until\n"
          ]
        }
      ]
    },
    {
      "cell_type": "markdown",
      "source": [
        "Расчеты не сходятся..."
      ],
      "metadata": {
        "id": "iAnVj7qlYwDm"
      },
      "id": "iAnVj7qlYwDm"
    }
  ],
  "metadata": {
    "kernelspec": {
      "display_name": "Python 3",
      "language": "python",
      "name": "python3"
    },
    "language_info": {
      "codemirror_mode": {
        "name": "ipython",
        "version": 3
      },
      "file_extension": ".py",
      "mimetype": "text/x-python",
      "name": "python",
      "nbconvert_exporter": "python",
      "pygments_lexer": "ipython3",
      "version": "3.8.8"
    },
    "colab": {
      "name": "Homework_2.ipynb",
      "provenance": [],
      "collapsed_sections": []
    }
  },
  "nbformat": 4,
  "nbformat_minor": 5
}